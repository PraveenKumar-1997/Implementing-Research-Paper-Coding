{
 "cells": [
  {
   "cell_type": "code",
   "execution_count": 6,
   "metadata": {},
   "outputs": [],
   "source": [
    "import numpy as np\n",
    "import pandas as pd\n",
    "import matplotlib.pyplot as plt\n",
    "plt.style.use(\"ggplot\")\n",
    "plt.usetex = True\n",
    "from tqdm.notebook import tqdm\n",
    "\n",
    "from sklearn.datasets import fetch_20newsgroups\n",
    "from sklearn.feature_extraction.text import CountVectorizer"
   ]
  },
  {
   "cell_type": "code",
   "execution_count": 7,
   "metadata": {},
   "outputs": [],
   "source": [
    "n_samples = 10000\n",
    "data, _ = fetch_20newsgroups(shuffle=True, random_state=1,\n",
    "                             remove=('headers', 'footers', 'quotes'),\n",
    "                             return_X_y=True,\n",
    "                            )\n",
    "data_samples = data[:n_samples]"
   ]
  },
  {
   "cell_type": "code",
   "execution_count": 8,
   "metadata": {},
   "outputs": [],
   "source": [
    "tf_vectorizer = CountVectorizer(max_df=0.95, min_df=2,\n",
    "                                max_features=10000,\n",
    "                                stop_words='english')\n",
    "tf = tf_vectorizer.fit_transform(data_samples)"
   ]
  },
  {
   "cell_type": "code",
   "execution_count": 9,
   "metadata": {},
   "outputs": [
    {
     "data": {
      "text/plain": [
       "10000"
      ]
     },
     "execution_count": 9,
     "metadata": {},
     "output_type": "execute_result"
    }
   ],
   "source": [
    "len(tf.toarray())  # No. of sentences (or documents) is 10,000"
   ]
  },
  {
   "cell_type": "code",
   "execution_count": 10,
   "metadata": {},
   "outputs": [],
   "source": [
    "vocabulary = tf_vectorizer.vocabulary_"
   ]
  },
  {
   "cell_type": "code",
   "execution_count": 11,
   "metadata": {},
   "outputs": [
    {
     "name": "stdout",
     "output_type": "stream",
     "text": [
      "10000\n"
     ]
    }
   ],
   "source": [
    "print(len(vocabulary)) # max_features or Vocab size is 10,000"
   ]
  },
  {
   "cell_type": "code",
   "execution_count": 12,
   "metadata": {},
   "outputs": [],
   "source": [
    "docs = []\n",
    "for row in tf.toarray():\n",
    "    \n",
    "    present_words = np.where(row != 0)[0].tolist()\n",
    "    #print(present_words)\n",
    "    present_words_with_count = []\n",
    "    for word_idx in present_words:\n",
    "        for count in range(row[word_idx]):\n",
    "            present_words_with_count.append(word_idx)\n",
    "    docs.append(present_words_with_count)"
   ]
  },
  {
   "cell_type": "code",
   "execution_count": 13,
   "metadata": {},
   "outputs": [
    {
     "data": {
      "text/plain": [
       "(array([1909, 2051, 3205, 5441, 8247], dtype=int64),)"
      ]
     },
     "execution_count": 13,
     "metadata": {},
     "output_type": "execute_result"
    }
   ],
   "source": [
    "np.where(row != 0)  # returns the indexes where there is word"
   ]
  },
  {
   "cell_type": "code",
   "execution_count": 14,
   "metadata": {},
   "outputs": [
    {
     "data": {
      "text/plain": [
       "array([1909, 2051, 3205, 5441, 8247], dtype=int64)"
      ]
     },
     "execution_count": 14,
     "metadata": {},
     "output_type": "execute_result"
    }
   ],
   "source": [
    "present_words = np.where(row != 0)[0]\n",
    "present_words"
   ]
  },
  {
   "cell_type": "code",
   "execution_count": 15,
   "metadata": {},
   "outputs": [
    {
     "name": "stdout",
     "output_type": "stream",
     "text": [
      "[1909, 2051, 3205, 5441, 8247]\n"
     ]
    }
   ],
   "source": [
    "present_words_with_count = []\n",
    "for word_idx in present_words:\n",
    "    for count in range(row[word_idx]):\n",
    "        present_words_with_count.append(word_idx)\n",
    "print(present_words_with_count)"
   ]
  },
  {
   "cell_type": "code",
   "execution_count": 16,
   "metadata": {},
   "outputs": [
    {
     "data": {
      "text/plain": [
       "[1909, 2051, 3205, 5441, 8247]"
      ]
     },
     "execution_count": 16,
     "metadata": {},
     "output_type": "execute_result"
    }
   ],
   "source": [
    "docs[-1]"
   ]
  },
  {
   "cell_type": "code",
   "execution_count": 17,
   "metadata": {},
   "outputs": [],
   "source": [
    "D = len(docs)        # number of documents\n",
    "V = len(vocabulary)  # size of the vocabulary \n",
    "T = 10               # number of topics\n",
    "\n",
    "beta = 1 / T         # the parameter of the Dirichlet prior on the per-document topic distributions\n",
    "alpha = 1 / T        # the parameter of the Dirichlet prior on the per-topic word distribution"
   ]
  },
  {
   "cell_type": "code",
   "execution_count": 18,
   "metadata": {},
   "outputs": [
    {
     "data": {
      "application/vnd.jupyter.widget-view+json": {
       "model_id": "6b2d89610f854ceaacdac8ee0a750261",
       "version_major": 2,
       "version_minor": 0
      },
      "text/plain": [
       "  0%|          | 0/10 [00:00<?, ?it/s]"
      ]
     },
     "metadata": {},
     "output_type": "display_data"
    }
   ],
   "source": [
    "z_d_n = [[0 for _ in range(len(d))] for d in docs]  # z_i_j\n",
    "theta_d_z = np.zeros((D, T))\n",
    "phi_z_w = np.zeros((T, V))\n",
    "n_d = np.zeros((D))\n",
    "n_z = np.zeros((T))\n",
    "\n",
    "## Initialize the parameters\n",
    "# m: doc id\n",
    "for d, doc in enumerate(docs):  \n",
    "    # n: id of word inside document, w: id of the word globally\n",
    "    for n, w in enumerate(doc):\n",
    "        # assign a topic randomly to words\n",
    "        z_d_n[d][n] = n % T\n",
    "        # get the topic for word n in document m\n",
    "        z = z_d_n[d][n]\n",
    "        # keep track of our counts\n",
    "        theta_d_z[d][z] += 1\n",
    "        phi_z_w[z, w] += 1\n",
    "        n_z[z] += 1\n",
    "        n_d[d] += 1\n",
    "\n",
    "for iteration in tqdm(range(10)):\n",
    "    for d, doc in enumerate(docs):\n",
    "        for n, w in enumerate(doc):\n",
    "            # get the topic for word n in document m\n",
    "            z = z_d_n[d][n]\n",
    "            \n",
    "            # decrement counts for word w with associated topic z\n",
    "            theta_d_z[d][z] -= 1 \n",
    "            phi_z_w[z, w] -= 1\n",
    "            n_z[z] -= 1\n",
    "\n",
    "            # sample new topic from a multinomial according to our formular\n",
    "            p_d_t = (theta_d_z[d] + alpha) / (n_d[d] - 1 + T * alpha) \n",
    "            p_t_w = (phi_z_w[:, w] + beta) / (n_z + V * beta)\n",
    "            p_z = p_d_t * p_t_w\n",
    "            p_z /= np.sum(p_z)\n",
    "            new_z = np.random.multinomial(1, p_z).argmax()\n",
    "\n",
    "            # set z as the new topic and increment counts\n",
    "            z_d_n[d][n] = new_z\n",
    "            theta_d_z[d][new_z] += 1\n",
    "            phi_z_w[new_z, w] += 1\n",
    "            n_z[new_z] += 1\n"
   ]
  },
  {
   "cell_type": "code",
   "execution_count": 21,
   "metadata": {},
   "outputs": [
    {
     "data": {
      "image/png": "[encoded data removed]",
      "text/plain": [
       "<Figure size 432x288 with 1 Axes>"
      ]
     },
     "metadata": {},
     "output_type": "display_data"
    }
   ],
   "source": [
    "i = 1\n",
    "plt.plot(theta_d_z[i]/ sum(theta_d_z[i]));\n",
    "plt.title(\"Topic distribution $theta_i$ for document {}\".format(i));"
   ]
  },
  {
   "cell_type": "code",
   "execution_count": 22,
   "metadata": {},
   "outputs": [
    {
     "name": "stdout",
     "output_type": "stream",
     "text": [
      "Topic #0: 00 10 16 25 15 20 12 11 team 14\n",
      "Topic #1: space edu available data program software information use nasa graphics\n",
      "Topic #2: like just don good think know ve time problem make\n",
      "Topic #3: people don new think years states said time government just\n",
      "Topic #4: file edu use key com db window windows bit using\n",
      "Topic #5: god people jesus armenian say armenians believe life did like\n",
      "Topic #6: use like just does don know problem new think good\n",
      "Topic #7: law government people president gun israel right state think encryption\n",
      "Topic #8: know don just think like time going said ll did\n",
      "Topic #9: ax max g9v pl b8f a86 cx 75u 145 34u\n"
     ]
    }
   ],
   "source": [
    "inv_vocabulary = {v: k for k, v in vocabulary.items()}\n",
    "n_top_words = 10\n",
    "for topic_idx, topic in enumerate(phi_z_w):\n",
    "    message = \"Topic #%d: \" % topic_idx\n",
    "    message += \" \".join([inv_vocabulary[i] for i in topic.argsort()[:-n_top_words - 1:-1]])\n",
    "    print(message)"
   ]
  }
 ],
 "metadata": {
  "kernelspec": {
   "display_name": "Python 3 (ipykernel)",
   "language": "python",
   "name": "python3"
  },
  "language_info": {
   "codemirror_mode": {
    "name": "ipython",
    "version": 3
   },
   "file_extension": ".py",
   "mimetype": "text/x-python",
   "name": "python",
   "nbconvert_exporter": "python",
   "pygments_lexer": "ipython3",
   "version": "3.9.12"
  }
 },
 "nbformat": 4,
 "nbformat_minor": 4
}
